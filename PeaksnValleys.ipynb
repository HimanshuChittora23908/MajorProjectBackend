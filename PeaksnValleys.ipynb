{
 "cells": [
  {
   "cell_type": "code",
   "execution_count": 4,
   "metadata": {},
   "outputs": [],
   "source": [
    "from tslearn.clustering import TimeSeriesKMeans\n",
    "import pandas as pd\n",
    "import numpy as np\n",
    "import matplotlib.pyplot as plt"
   ]
  },
  {
   "cell_type": "code",
   "execution_count": 5,
   "metadata": {},
   "outputs": [],
   "source": [
    "data_path = \"DemoChip.csv\"\n",
    "data = pd.read_csv(data_path, sep=',')\n",
    "data = data.iloc[:,:]\n",
    "data = np.array(data,dtype='float32')\n",
    "ROI_L = 0\n",
    "ROI_R = 0\n",
    "series = data[:,1:]"
   ]
  },
  {
   "cell_type": "code",
   "execution_count": 10,
   "metadata": {},
   "outputs": [],
   "source": [
    "# Get range of all peaks and valleys of graph with index 1000 and print the result\n",
    "def get_range_of_peaks_and_valleys(series, index):\n",
    "    # Get the index of the peak\n",
    "    peak_index = np.argmax(series[index])\n",
    "    # Get the index of the valley\n",
    "    valley_index = np.argmin(series[index])\n",
    "    # Get the range of the peak\n",
    "    peak_range = series[index][peak_index] - series[index][valley_index]\n",
    "    # Get the range of the valley\n",
    "    valley_range = series[index][valley_index] - series[index][peak_index]\n",
    "    return peak_range, valley_range\n",
    "\n",
    "print(get_range_of_peaks_and_valleys(series, 1000))"
   ]
  }
 ],
 "metadata": {
  "kernelspec": {
   "display_name": "melio_ml",
   "language": "python",
   "name": "python3"
  },
  "language_info": {
   "codemirror_mode": {
    "name": "ipython",
    "version": 3
   },
   "file_extension": ".py",
   "mimetype": "text/x-python",
   "name": "python",
   "nbconvert_exporter": "python",
   "pygments_lexer": "ipython3",
   "version": "3.10.5"
  },
  "orig_nbformat": 4
 },
 "nbformat": 4,
 "nbformat_minor": 2
}
